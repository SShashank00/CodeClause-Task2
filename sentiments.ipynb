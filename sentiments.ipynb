{
  "nbformat": 4,
  "nbformat_minor": 0,
  "metadata": {
    "colab": {
      "private_outputs": true,
      "provenance": []
    },
    "kernelspec": {
      "name": "python3",
      "display_name": "Python 3"
    },
    "language_info": {
      "name": "python"
    }
  },
  "cells": [
    {
      "cell_type": "code",
      "execution_count": null,
      "metadata": {
        "id": "YNsUoKYplhqA"
      },
      "outputs": [],
      "source": [
        "import pandas as pd\n",
        "from fastai.text.all import *\n",
        "# !conda install -c fastai fastai\n",
        "\n",
        "import os\n",
        "# for dirname, _, filenames in os.walk(r\"C:\\Users\\Asus\\OneDrive\\Desktop\\train.csv\"):\n",
        "#     for filename in filenames:\n",
        "#         print(os.path.join(dirname, filename))\n",
        "\n"
      ]
    },
    {
      "cell_type": "code",
      "source": [
        "df = pd.read_csv(r\"/content/train.csv\", encoding= 'unicode_escape')\n",
        "\n",
        "df.head()\n",
        "\n",
        "test = pd.read_csv(r\"/content/test.csv\", encoding= 'unicode_escape')\n",
        "test.head()\n",
        "\n",
        "len(df), len(test)"
      ],
      "metadata": {
        "id": "zgFZgrSRoYL9"
      },
      "execution_count": null,
      "outputs": []
    },
    {
      "cell_type": "code",
      "source": [
        "!pip install torch.C\n",
        "!pip install fastai\n",
        "!pip install torch torchvision torchaudio\n",
        "from fastai.text.data import TextDataLoaders\n",
        "\n",
        "\n",
        "dls = TextDataLoaders.from_df(df, \n",
        "                              text_col=\"selected_text\", \n",
        "                              label_col=\"sentiment\", valid = test)\n",
        "dls.show_batch()\n",
        "\n"
      ],
      "metadata": {
        "id": "HBRKD4YJl1KA"
      },
      "execution_count": null,
      "outputs": []
    },
    {
      "cell_type": "code",
      "source": [
        "dls.show_batch()"
      ],
      "metadata": {
        "id": "c9FMogpWowJy"
      },
      "execution_count": null,
      "outputs": []
    },
    {
      "cell_type": "code",
      "source": [
        "learn = text_classifier_learner(dls, AWD_LSTM, drop_mult=0.3, metrics=accuracy)\n"
      ],
      "metadata": {
        "id": "-ly9X87ho4ay"
      },
      "execution_count": null,
      "outputs": []
    },
    {
      "cell_type": "code",
      "source": [
        "learn.fine_tune(4, 1e-2)\n"
      ],
      "metadata": {
        "id": "xbEsYJO0o9QY"
      },
      "execution_count": null,
      "outputs": []
    },
    {
      "cell_type": "code",
      "source": [
        "learn.show_results()"
      ],
      "metadata": {
        "id": "sZQdp9Ijptnw"
      },
      "execution_count": null,
      "outputs": []
    },
    {
      "cell_type": "code",
      "source": [],
      "metadata": {
        "id": "9Ibnf6jRs3Wl"
      },
      "execution_count": null,
      "outputs": []
    },
    {
      "cell_type": "code",
      "source": [],
      "metadata": {
        "id": "DiFOnK0ss8_J"
      },
      "execution_count": null,
      "outputs": []
    }
  ]
}